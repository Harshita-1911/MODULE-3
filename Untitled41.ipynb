{
 "cells": [
  {
   "cell_type": "code",
   "execution_count": 5,
   "id": "3a9a009d-5922-4790-81bb-9aa0100c6cef",
   "metadata": {},
   "outputs": [
    {
     "name": "stdout",
     "output_type": "stream",
     "text": [
      "   MAG SUBCODE MASTER_KEY  Unnamed: 3  Unnamed: 4    S  Unnamed: 6  \\\n",
      "0  OLT   81221       5148         NaN         NaN  NaN         NaN   \n",
      "1   OL  477892       5150         NaN         NaN  NaN         NaN   \n",
      "2   OL  477990       5159         NaN         NaN  NaN         NaN   \n",
      "3  OLM  188077       5167         NaN         NaN    S         NaN   \n",
      "4  OLH    8117       5168         NaN         NaN    S         NaN   \n",
      "\n",
      "  DESIGNATION  Unnamed: 8  Unnamed: 9  ...  Unnamed: 15  REGIONCODE  \\\n",
      "0       OWNER         NaN         NaN  ...          NaN         4.0   \n",
      "1         IPS         NaN         NaN  ...          NaN         6.0   \n",
      "2      OWNDER         NaN         NaN  ...          NaN         8.0   \n",
      "3         NaN         NaN         NaN  ...          NaN         8.0   \n",
      "4  CONSULTANT         NaN         NaN  ...          NaN         4.0   \n",
      "\n",
      "   Unnamed: 17 Unnamed: 18 Unnamed: 19  Unnamed: 20  NOOFCOPIES  \\\n",
      "0          NaN         NaN         NaN          NaN         1.0   \n",
      "1          NaN         NaN         NaN          NaN         1.0   \n",
      "2          NaN         NaN         NaN          NaN         1.0   \n",
      "3          NaN         NaN         NaN          NaN         1.0   \n",
      "4          NaN         NaN         NaN          NaN         1.0   \n",
      "\n",
      "                 sdate    EXPDATE  LASTEXPDA  \n",
      "0  2018-08-01 00:00:00 2025-02-01 2025-02-01  \n",
      "1  2022-03-11 00:00:00 2024-08-21 2024-08-21  \n",
      "2  2022-03-14 00:00:00 2024-09-01 2024-09-01  \n",
      "3  2019-03-01 00:00:00 2024-09-01 2024-09-01  \n",
      "4  2022-03-07 00:00:00 2024-06-24 2024-06-24  \n",
      "\n",
      "[5 rows x 25 columns]\n",
      "     MAG  tenure  count\n",
      "0     OL   -62.0      2\n",
      "1     OL   -52.0      2\n",
      "2     OL   -49.0      1\n",
      "3     OL   -19.0      1\n",
      "4     OL    -7.0      1\n",
      "..   ...     ...    ...\n",
      "439  OLT   137.0      1\n",
      "440  OLT   138.0      1\n",
      "441  OLT   145.0      5\n",
      "442  OLT   148.0      1\n",
      "443  OLT   154.0      1\n",
      "\n",
      "[444 rows x 3 columns]\n"
     ]
    }
   ],
   "source": [
    "import pandas as pd\n",
    "\n",
    "# Load the Excel file\n",
    "file_path = \"C:\\\\Users\\\\HARSHITA VAISHNAV\\\\Desktop\\\\Business Analytics module3-1.xlsx\"\n",
    "data = pd.read_excel(file_path)\n",
    "\n",
    "# Check the first few rows to understand the data structure\n",
    "print(data.head())\n",
    "\n",
    "# Convert date columns to datetime, coercing errors to NaT\n",
    "data['sdate'] = pd.to_datetime(data['sdate'], errors='coerce')\n",
    "data['EXPDATE'] = pd.to_datetime(data['EXPDATE'], errors='coerce')\n",
    "\n",
    "# Calculate tenure in months, handling cases where dates might be NaT\n",
    "data['tenure'] = (data['EXPDATE'] - data['sdate']).dt.days // 30\n",
    "\n",
    "# Group by brand and tenure, then count the number of subscriptions\n",
    "brand_tenure_count = data.groupby(['MAG', 'tenure']).size().reset_index(name='count')\n",
    "\n",
    "# Display the result\n",
    "print(brand_tenure_count)\n",
    "\n",
    "# Save to a CSV file if needed\n",
    "brand_tenure_count.to_csv('brand_tenure_count.csv', index=False)\n"
   ]
  },
  {
   "cell_type": "code",
   "execution_count": 7,
   "id": "7829bc4f-d0fe-4941-8421-89f0a201fff6",
   "metadata": {},
   "outputs": [
    {
     "name": "stdout",
     "output_type": "stream",
     "text": [
      "    MAG YearMonth  count\n",
      "0    OL   2024-05    390\n",
      "1    OL   2024-06    607\n",
      "2    OL   2024-07    556\n",
      "3    OL   2024-08    305\n",
      "4    OL   2024-09    248\n",
      "5    OL   2024-10    197\n",
      "6    OL   2024-11    179\n",
      "7    OL   2024-12    154\n",
      "8    OL   2025-01    195\n",
      "9    OL   2025-02    232\n",
      "10   OL   2025-03    238\n",
      "11  OLB   2024-05    316\n",
      "12  OLB   2024-06    976\n",
      "13  OLB   2024-07    751\n",
      "14  OLB   2024-08    243\n",
      "15  OLB   2024-09    112\n",
      "16  OLB   2024-10    117\n",
      "17  OLB   2024-11     95\n",
      "18  OLB   2024-12     95\n",
      "19  OLB   2025-01    104\n",
      "20  OLB   2025-02     93\n",
      "21  OLB   2025-03     95\n",
      "22  OLH   2024-05    150\n",
      "23  OLH   2024-06    343\n",
      "24  OLH   2024-07    269\n",
      "25  OLH   2024-08    153\n",
      "26  OLH   2024-09    114\n",
      "27  OLH   2024-10     88\n",
      "28  OLH   2024-11     37\n",
      "29  OLH   2024-12     51\n",
      "30  OLH   2025-01     38\n",
      "31  OLH   2025-02     41\n",
      "32  OLH   2025-03     89\n",
      "33  OLM   2024-05    465\n",
      "34  OLM   2024-06    949\n",
      "35  OLM   2024-07    829\n",
      "36  OLM   2024-08    414\n",
      "37  OLM   2024-09    325\n",
      "38  OLM   2024-10    327\n",
      "39  OLM   2024-11    305\n",
      "40  OLM   2024-12    346\n",
      "41  OLM   2025-01    334\n",
      "42  OLM   2025-02    302\n",
      "43  OLM   2025-03    262\n",
      "44  OLT   2024-06   2029\n",
      "45  OLT   2024-08    526\n",
      "46  OLT   2024-10    332\n",
      "47  OLT   2024-12    328\n",
      "48  OLT   2025-02    412\n"
     ]
    },
    {
     "name": "stderr",
     "output_type": "stream",
     "text": [
      "C:\\Users\\HARSHITA VAISHNAV\\AppData\\Local\\Temp\\ipykernel_14380\\3536791035.py:10: SettingWithCopyWarning: \n",
      "A value is trying to be set on a copy of a slice from a DataFrame.\n",
      "Try using .loc[row_indexer,col_indexer] = value instead\n",
      "\n",
      "See the caveats in the documentation: https://pandas.pydata.org/pandas-docs/stable/user_guide/indexing.html#returning-a-view-versus-a-copy\n",
      "  filtered_data['YearMonth'] = filtered_data['EXPDATE'].dt.to_period('M')\n"
     ]
    }
   ],
   "source": [
    "# Convert the 'EXPDATE' column to datetime, coercing errors to NaT\n",
    "data['EXPDATE'] = pd.to_datetime(data['EXPDATE'], errors='coerce')\n",
    "\n",
    "# Filter data for the period from May 2024 to March 2025\n",
    "start_date = pd.Timestamp('2024-05-01')\n",
    "end_date = pd.Timestamp('2025-03-31')\n",
    "filtered_data = data[(data['EXPDATE'] >= start_date) & (data['EXPDATE'] <= end_date)]\n",
    "\n",
    "# Extract the year and month from the 'EXPDATE'\n",
    "filtered_data['YearMonth'] = filtered_data['EXPDATE'].dt.to_period('M')\n",
    "\n",
    "# Group by brand ('MAG') and month ('YearMonth'), then count the number of subscriptions\n",
    "brand_month_expiry_count = filtered_data.groupby(['MAG', 'YearMonth']).size().reset_index(name='count')\n",
    "\n",
    "# Display the result\n",
    "print(brand_month_expiry_count)\n",
    "\n",
    "\n"
   ]
  },
  {
   "cell_type": "code",
   "execution_count": 11,
   "id": "39ccb0dc-ceec-48ef-b0f3-478176e23efa",
   "metadata": {},
   "outputs": [
    {
     "name": "stdout",
     "output_type": "stream",
     "text": [
      "     MAG StandardizedCity  count\n",
      "0     OL              NEW    376\n",
      "1     OL        BANGALORE    309\n",
      "2     OL           MUMBAI    153\n",
      "3     OL          CHENNAI    107\n",
      "4     OL        HYDERABAD    105\n",
      "..   ...              ...    ...\n",
      "195  OLT         HAMIRPUR     19\n",
      "196  OLT        KASARAGOD     19\n",
      "197  OLT          PANIPAT     19\n",
      "198  OLT          SONIPAT     19\n",
      "199  OLT           BHOPAL     18\n",
      "\n",
      "[200 rows x 3 columns]\n"
     ]
    },
    {
     "name": "stderr",
     "output_type": "stream",
     "text": [
      "C:\\Users\\HARSHITA VAISHNAV\\AppData\\Local\\Temp\\ipykernel_14380\\1532499568.py:14: DeprecationWarning: DataFrameGroupBy.apply operated on the grouping columns. This behavior is deprecated, and in a future version of pandas the grouping columns will be excluded from the operation. Either pass `include_groups=False` to exclude the groupings or explicitly select the grouping columns after groupby to silence this warning.\n",
      "  top_cities_per_brand = city_brand_count.groupby('MAG').apply(lambda x: x.nlargest(40, 'count')).reset_index(drop=True)\n"
     ]
    }
   ],
   "source": [
    "# Define a function to standardize city names\n",
    "def standardize_city(city):\n",
    "    if isinstance(city, str):  # Check if the city name is a string\n",
    "        return city.split(' ')[0]\n",
    "    return city  # Return as-is if not a string (e.g., NaN)\n",
    "\n",
    "# Apply the standardization function\n",
    "data['StandardizedCity'] = data['CITY'].apply(standardize_city)\n",
    "\n",
    "# Group by brand and standardized city, then count the number of subscriptions\n",
    "city_brand_count = data.groupby(['MAG', 'StandardizedCity']).size().reset_index(name='count')\n",
    "\n",
    "# Sort and find the top 40 cities for each brand\n",
    "top_cities_per_brand = city_brand_count.groupby('MAG').apply(lambda x: x.nlargest(40, 'count')).reset_index(drop=True)\n",
    "\n",
    "# Display the result\n",
    "print(top_cities_per_brand)\n",
    "\n"
   ]
  },
  {
   "cell_type": "code",
   "execution_count": 13,
   "id": "65e90378-9c57-4a47-b70a-32f0126ace39",
   "metadata": {},
   "outputs": [
    {
     "name": "stdout",
     "output_type": "stream",
     "text": [
      "S      &    /    ;     A     B     C     D    E    F     G  ...    Q     R  \\\n",
      "MAG                                                         ...              \n",
      "OL   1.0  2.0  0.0  29.0  30.0  21.0  26.0  0.0  4.0   7.0  ...  1.0  40.0   \n",
      "OLB  1.0  0.0  0.0  23.0   7.0  13.0  13.0  3.0  2.0  11.0  ...  0.0  20.0   \n",
      "OLH  2.0  0.0  0.0   7.0  14.0  14.0   7.0  0.0  0.0   3.0  ...  0.0  10.0   \n",
      "OLM  2.0  0.0  1.0  56.0  42.0  43.0  37.0  6.0  5.0  23.0  ...  0.0  62.0   \n",
      "OLT  1.0  0.0  0.0  22.0  21.0  22.0  20.0  2.0  2.0  13.0  ...  0.0  35.0   \n",
      "\n",
      "S        S     T    U     V    W    Y    Z  Gender Ratio (M/F)  \n",
      "MAG                                                             \n",
      "OL   102.0   3.0  2.0  30.0  0.0  1.0  0.0                8.25  \n",
      "OLB   66.0   8.0  1.0  18.0  1.0  0.0  1.0               13.00  \n",
      "OLH   38.0   2.0  1.0   3.0  0.0  0.0  0.0                 inf  \n",
      "OLM  159.0  13.0  3.0  53.0  0.0  1.0  0.0                9.60  \n",
      "OLT   80.0   9.0  3.0  24.0  0.0  4.0  1.0               11.50  \n",
      "\n",
      "[5 rows x 29 columns]\n"
     ]
    }
   ],
   "source": [
    "# Ensure the gender column exists and is consistent\n",
    "# Assuming the gender column is named 'GENDER' and contains values like 'M' for Male and 'F' for Female\n",
    "data['S'] = data['S'].str.upper()  # Standardize the case\n",
    "\n",
    "# Group by brand and gender, then count the number of subscriptions\n",
    "gender_brand_count = data.groupby(['MAG', 'S']).size().reset_index(name='count')\n",
    "\n",
    "# Pivot the data to have gender counts as columns for each brand\n",
    "gender_pivot = gender_brand_count.pivot(index='MAG', columns='S', values='count').fillna(0)\n",
    "\n",
    "# Calculate the gender ratio (Male to Female, M/F)\n",
    "gender_pivot['Gender Ratio (M/F)'] = gender_pivot['M'] / gender_pivot['F']\n",
    "\n",
    "# Display the result\n",
    "print(gender_pivot)\n",
    "\n"
   ]
  },
  {
   "cell_type": "code",
   "execution_count": 15,
   "id": "274c719d-7f5c-484a-a750-69f8bc776469",
   "metadata": {},
   "outputs": [
    {
     "name": "stdout",
     "output_type": "stream",
     "text": [
      "     MAG      DESIGNATION  count\n",
      "0     OL      (LIBRARIAN)      1\n",
      "1     OL              A E      1\n",
      "2     OL            A G M      1\n",
      "3     OL              A M      2\n",
      "4     OL  ACCOUNT OFFICER      1\n",
      "..   ...              ...    ...\n",
      "789  OLT              T L      1\n",
      "790  OLT          TEACHER      3\n",
      "791  OLT  TECH CONSULTANT      1\n",
      "792  OLT     TOUR MANAGER      1\n",
      "793  OLT              V P      5\n",
      "\n",
      "[794 rows x 3 columns]\n"
     ]
    }
   ],
   "source": [
    "# Group by brand and designation, then count the number of subscriptions\n",
    "designation_brand_count = data.groupby(['MAG', 'DESIGNATION']).size().reset_index(name='count')\n",
    "\n",
    "# Display the result\n",
    "print(designation_brand_count)\n",
    "\n"
   ]
  },
  {
   "cell_type": "code",
   "execution_count": 17,
   "id": "d3f1d101-d6cc-412e-a44d-fac28a401d62",
   "metadata": {},
   "outputs": [
    {
     "name": "stdout",
     "output_type": "stream",
     "text": [
      "      MAG                CITY  count  total_count  contribution\n",
      "0      OL     24 PARGANAS (N)      2         3345      0.059791\n",
      "1      OL  24 PARGANAS (N) DT      1         3345      0.029895\n",
      "2      OL     24 PARGANAS (S)      1         3345      0.029895\n",
      "3      OL  24 PARGANAS (S) DT      2         3345      0.059791\n",
      "4      OL         ADILABAD DT      1         3345      0.029895\n",
      "...   ...                 ...    ...          ...           ...\n",
      "2952  OLT       WEST GODAVARI      2         3897      0.051322\n",
      "2953  OLT    WEST GODAVARI DT     11         3897      0.282268\n",
      "2954  OLT         YAMUNANAGAR      5         3897      0.128304\n",
      "2955  OLT      YAMUNANAGAR DT      1         3897      0.025661\n",
      "2956  OLT         YAVATMAL DT      1         3897      0.025661\n",
      "\n",
      "[2957 rows x 5 columns]\n"
     ]
    }
   ],
   "source": [
    "# Group by brand and city, then count the number of subscriptions\n",
    "city_brand_count = data.groupby(['MAG', 'CITY']).size().reset_index(name='count')\n",
    "\n",
    "# Calculate the total number of subscriptions per brand\n",
    "total_brand_count = city_brand_count.groupby('MAG')['count'].sum().reset_index(name='total_count')\n",
    "\n",
    "# Merge the total counts back with the original data\n",
    "city_brand_count = city_brand_count.merge(total_brand_count, on='MAG')\n",
    "\n",
    "# Calculate the contribution of each city to the total number of subscribers for the brand\n",
    "city_brand_count['contribution'] = (city_brand_count['count'] / city_brand_count['total_count']) * 100\n",
    "\n",
    "# Display the result\n",
    "print(city_brand_count)\n",
    "\n"
   ]
  },
  {
   "cell_type": "code",
   "execution_count": 19,
   "id": "b269511f-0140-4833-b98c-816eb86ca044",
   "metadata": {},
   "outputs": [
    {
     "name": "stdout",
     "output_type": "stream",
     "text": [
      "     MAG  STA  count  total_count  contribution\n",
      "0     OL  56A     55         3345      1.644245\n",
      "1     OL  99A     29         3345      0.866966\n",
      "2     OL   AP    276         3345      8.251121\n",
      "3     OL  ARP      1         3345      0.029895\n",
      "4     OL  ASM     45         3345      1.345291\n",
      "..   ...  ...    ...          ...           ...\n",
      "161  OLT   TN    214         3898      5.489995\n",
      "162  OLT  TRI     23         3898      0.590046\n",
      "163  OLT   UP    406         3898     10.415598\n",
      "164  OLT  UTT     99         3898      2.539764\n",
      "165  OLT   WB    208         3898      5.336070\n",
      "\n",
      "[166 rows x 5 columns]\n"
     ]
    }
   ],
   "source": [
    "# Group by brand and state, then count the number of subscriptions\n",
    "state_brand_count = data.groupby(['MAG', 'STA']).size().reset_index(name='count')\n",
    "\n",
    "# Calculate the total number of subscriptions per brand\n",
    "total_brand_count = state_brand_count.groupby('MAG')['count'].sum().reset_index(name='total_count')\n",
    "\n",
    "# Merge the total counts back with the original data\n",
    "state_brand_count = state_brand_count.merge(total_brand_count, on='MAG')\n",
    "\n",
    "# Calculate the contribution of each state to the total number of subscribers for the brand\n",
    "state_brand_count['contribution'] = (state_brand_count['count'] / state_brand_count['total_count']) * 100\n",
    "\n",
    "# Display the result\n",
    "print(state_brand_count)\n",
    "\n",
    "\n"
   ]
  },
  {
   "cell_type": "code",
   "execution_count": null,
   "id": "eb1d18df-7ad2-4f73-b977-b6790a76345f",
   "metadata": {},
   "outputs": [],
   "source": []
  }
 ],
 "metadata": {
  "kernelspec": {
   "display_name": "Python 3 (ipykernel)",
   "language": "python",
   "name": "python3"
  },
  "language_info": {
   "codemirror_mode": {
    "name": "ipython",
    "version": 3
   },
   "file_extension": ".py",
   "mimetype": "text/x-python",
   "name": "python",
   "nbconvert_exporter": "python",
   "pygments_lexer": "ipython3",
   "version": "3.12.4"
  }
 },
 "nbformat": 4,
 "nbformat_minor": 5
}
